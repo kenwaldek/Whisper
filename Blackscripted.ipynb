{
  "nbformat": 4,
  "nbformat_minor": 0,
  "metadata": {
    "colab": {
      "provenance": [],
      "gpuType": "T4",
      "authorship_tag": "ABX9TyO3AZOwFD/CLng6IJj/e4iW",
      "include_colab_link": true
    },
    "kernelspec": {
      "name": "python3",
      "display_name": "Python 3"
    },
    "language_info": {
      "name": "python"
    },
    "accelerator": "GPU"
  },
  "cells": [
    {
      "cell_type": "markdown",
      "metadata": {
        "id": "view-in-github",
        "colab_type": "text"
      },
      "source": [
        "<a href=\"https://colab.research.google.com/github/kenwaldek/Whisper/blob/main/Blackscripted.ipynb\" target=\"_parent\"><img src=\"https://colab.research.google.com/assets/colab-badge.svg\" alt=\"Open In Colab\"/></a>"
      ]
    },
    {
      "cell_type": "markdown",
      "source": [
        "## How to use this script\n",
        "### this script turns file or url into transcripted text\n",
        "multiple options to choose from:\n",
        "1 if you have \"video url\" just run the code and it will ask to enter the link below.\n",
        "2 upload file, click in the left sidebar on the folder icon and upload your file then when uploaded look bottom left blue circle needs to be gone & run the code\n",
        "\n",
        "when script is finished it will spitt out different whispered files. click the file ... in file browser and download (if you dont see the files click the file refresh tab)\n",
        "\n",
        "tip if you only want a small part of a video whispered you can use the screen reccording on your device and upload the file. for mac users it will be a .mov\n",
        "\n",
        "files supported: .mp3, .mp4, .mpeg, .mpga, .m4a, .wav, .webm, .mov\n",
        "\n",
        "\n",
        "\n",
        "\n"
      ],
      "metadata": {
        "id": "RICnBEdgg5tI"
      }
    },
    {
      "cell_type": "code",
      "source": [
        "!pip install -q moviepy yt-dlp\n",
        "!pip install git+https://github.com/openai/whisper.git\n",
        "!sudo apt update && sudo apt install -y ffmpeg\n",
        "\n",
        "import os\n",
        "import subprocess\n",
        "from moviepy.editor import VideoFileClip\n",
        "from IPython.display import display, Audio\n",
        "\n",
        "# Define the directory path where the supported files are located\n",
        "directory = '/content/'\n",
        "\n",
        "# Get a list of all files in the directory\n",
        "files = os.listdir(directory)\n",
        "\n",
        "# Supported file extensions\n",
        "supported_extensions = ['.mp3', '.mp4', '.mpeg', '.mpga', '.m4a', '.wav', '.webm']\n",
        "\n",
        "# Filter the list to find the supported files\n",
        "supported_files = [file for file in files if any(file.endswith(ext) for ext in supported_extensions)]\n",
        "\n",
        "# Check if there are .mov files found\n",
        "mov_files = [file for file in supported_files if file.endswith('.mov')]\n",
        "if len(mov_files) > 0:\n",
        "    for mov_file in mov_files:\n",
        "        # Convert .mov to .mp3 using MoviePy\n",
        "        video = VideoFileClip(os.path.join(directory, mov_file))\n",
        "        mp3_file = mov_file.replace('.mov', '.mp3')\n",
        "        video.audio.write_audiofile(os.path.join(directory, mp3_file))\n",
        "        print(f\"Converted {mov_file} to {mp3_file}\")\n",
        "        # Execute the whisper command with the converted .mp3 file\n",
        "        command = f\"whisper '{directory}{mp3_file}' --model medium\"\n",
        "        print(\"Executing command:\", command)\n",
        "        # Execute the command\n",
        "        os.system(command)\n",
        "\n",
        "# Execute the whisper command for the remaining supported files\n",
        "other_files = [file for file in supported_files if not file.endswith('.mov')]\n",
        "if len(other_files) > 0:\n",
        "    for file in other_files:\n",
        "        # Perform the command with the file\n",
        "        command = f\"whisper '{directory}{file}' --model medium\"\n",
        "        print(\"Executing command:\", command)\n",
        "        # Execute the command\n",
        "        os.system(command)\n",
        "\n",
        "# If no supported files are found, ask for a URL to download\n",
        "if len(supported_files) == 0:\n",
        "    url = input(\"No supported files found. Please enter a URL to download an audio file: \")\n",
        "    # Download audio from the URL using yt-dlp\n",
        "    download_command = f\"yt-dlp --extract-audio --audio-format mp3 -o '{directory}%(title)s.%(ext)s' {url}\"\n",
        "    print(\"Downloading audio...\")\n",
        "    subprocess.call(download_command, shell=True)\n",
        "\n",
        "    # Find the downloaded mp3 file\n",
        "    downloaded_files = [file for file in os.listdir(directory) if file.endswith('.mp3')]\n",
        "    if len(downloaded_files) > 0:\n",
        "        mp3_file = downloaded_files[0]\n",
        "        print(f\"Downloaded audio: {mp3_file}\")\n",
        "        # Execute the whisper command with the downloaded .mp3 file\n",
        "        command = f\"whisper '{directory}{mp3_file}' --model medium\"\n",
        "        print(\"Executing command:\", command)\n",
        "        # Execute the command\n",
        "        os.system(command)\n",
        "    else:\n",
        "        print(\"No .mp3 files found after download.\")\n"
      ],
      "metadata": {
        "id": "UOlDnnbPS51h"
      },
      "execution_count": null,
      "outputs": []
    }
  ]
}